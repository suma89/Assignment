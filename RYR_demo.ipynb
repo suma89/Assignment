{
  "nbformat": 4,
  "nbformat_minor": 0,
  "metadata": {
    "colab": {
      "name": "RYR_demo.ipynb",
      "provenance": [],
      "collapsed_sections": [],
      "authorship_tag": "ABX9TyOSbg43US1vosuzFVI6aYiH",
      "include_colab_link": true
    },
    "kernelspec": {
      "name": "python3",
      "display_name": "Python 3"
    }
  },
  "cells": [
    {
      "cell_type": "markdown",
      "metadata": {
        "id": "view-in-github",
        "colab_type": "text"
      },
      "source": [
        "<a href=\"https://colab.research.google.com/github/suma89/Assignment/blob/main/RYR_demo.ipynb\" target=\"_parent\"><img src=\"https://colab.research.google.com/assets/colab-badge.svg\" alt=\"Open In Colab\"/></a>"
      ]
    },
    {
      "cell_type": "code",
      "metadata": {
        "colab": {
          "base_uri": "https://localhost:8080/"
        },
        "id": "SZ9NHMD1TLJ5",
        "outputId": "cbea93d8-105c-4d3a-ff6d-1f1b8621bd12"
      },
      "source": [
        "from google.colab import drive\r\n",
        "drive.mount('/content/gdrive')"
      ],
      "execution_count": null,
      "outputs": [
        {
          "output_type": "stream",
          "text": [
            "Drive already mounted at /content/gdrive; to attempt to forcibly remount, call drive.mount(\"/content/gdrive\", force_remount=True).\n"
          ],
          "name": "stdout"
        }
      ]
    },
    {
      "cell_type": "code",
      "metadata": {
        "colab": {
          "base_uri": "https://localhost:8080/"
        },
        "id": "sp3s5tGxT3WC",
        "outputId": "609dfdb8-8ac4-4518-d8c8-98698a6c55a7"
      },
      "source": [
        "! ls"
      ],
      "execution_count": null,
      "outputs": [
        {
          "output_type": "stream",
          "text": [
            " Assignment\t\t\t   'Copy of RYR.ipynb'\t Untitled0.ipynb\n",
            " candidate_profile.csv\t\t    dataset\t\t Untitled1.ipynb\n",
            "'Copy of colab-github-demo.ipynb'   RYR_demo.ipynb\n",
            "'Copy of RYR (1).ipynb'\t\t    RYR.ipynb\n"
          ],
          "name": "stdout"
        }
      ]
    },
    {
      "cell_type": "code",
      "metadata": {
        "colab": {
          "base_uri": "https://localhost:8080/"
        },
        "id": "jTiSZJB_UVfQ",
        "outputId": "6b68ecd1-9744-4522-feaa-70decf539430"
      },
      "source": [
        "%cd /content/gdrive/My Drive/Assignment/"
      ],
      "execution_count": null,
      "outputs": [
        {
          "output_type": "stream",
          "text": [
            "/content/gdrive/My Drive/Assignment\n"
          ],
          "name": "stdout"
        }
      ]
    },
    {
      "cell_type": "code",
      "metadata": {
        "colab": {
          "base_uri": "https://localhost:8080/"
        },
        "id": "a-N6TDElUk2U",
        "outputId": "31a65e6a-a320-4d47-98bd-87397284e4cb"
      },
      "source": [
        "! git clone https://github.com/suma89/Assignment.git"
      ],
      "execution_count": null,
      "outputs": [
        {
          "output_type": "stream",
          "text": [
            "fatal: destination path 'Assignment' already exists and is not an empty directory.\n"
          ],
          "name": "stdout"
        }
      ]
    },
    {
      "cell_type": "code",
      "metadata": {
        "colab": {
          "base_uri": "https://localhost:8080/"
        },
        "id": "YgDaShMxWIQX",
        "outputId": "1b549ee7-acd5-45d6-8e61-1402d1422981"
      },
      "source": [
        "%%bash\r\n",
        "%cd gdrive/My Drive/Assignment/Assignment\r\n",
        "git show"
      ],
      "execution_count": null,
      "outputs": [
        {
          "output_type": "stream",
          "text": [
            "bash: line 1: fg: no job control\n",
            "fatal: your current branch 'master' does not have any commits yet\n"
          ],
          "name": "stderr"
        }
      ]
    },
    {
      "cell_type": "code",
      "metadata": {
        "colab": {
          "base_uri": "https://localhost:8080/"
        },
        "id": "9igyYCKwX3d7",
        "outputId": "04407ef4-a9a8-415e-8545-dcf726eee6ee"
      },
      "source": [
        "! git init"
      ],
      "execution_count": null,
      "outputs": [
        {
          "output_type": "stream",
          "text": [
            "Reinitialized existing Git repository in /content/gdrive/My Drive/Assignment/.git/\n"
          ],
          "name": "stdout"
        }
      ]
    },
    {
      "cell_type": "code",
      "metadata": {
        "colab": {
          "base_uri": "https://localhost:8080/"
        },
        "id": "7CTfSn_yVVQx",
        "outputId": "d2e96c50-1cae-4bde-8c86-ba62c3f8c95f"
      },
      "source": [
        "#@title\n",
        "! git pull"
      ],
      "execution_count": null,
      "outputs": [
        {
          "output_type": "stream",
          "text": [
            "There is no tracking information for the current branch.\n",
            "Please specify which branch you want to merge with.\n",
            "See git-pull(1) for details.\n",
            "\n",
            "    git pull <remote> <branch>\n",
            "\n",
            "If you wish to set tracking information for this branch you can do so with:\n",
            "\n",
            "    git branch --set-upstream-to=<remote>/<branch> master\n",
            "\n"
          ],
          "name": "stdout"
        }
      ]
    },
    {
      "cell_type": "code",
      "metadata": {
        "colab": {
          "base_uri": "https://localhost:8080/"
        },
        "cellView": "form",
        "id": "V69Bj5y-bgji",
        "outputId": "326040c5-bd89-40cf-a987-ce2d1904b7b5"
      },
      "source": [
        "#@title\n",
        "!pip install PyPDF2"
      ],
      "execution_count": null,
      "outputs": [
        {
          "output_type": "stream",
          "text": [
            "Requirement already satisfied: PyPDF2 in /usr/local/lib/python3.6/dist-packages (1.26.0)\n"
          ],
          "name": "stdout"
        }
      ]
    },
    {
      "cell_type": "code",
      "metadata": {
        "cellView": "form",
        "id": "C-3xlhqEbar7"
      },
      "source": [
        "#@title\n",
        "import pandas as pd\n",
        "import PyPDF2\n",
        "import re\n",
        "import os\n",
        "import csv\n",
        "\n",
        "\n",
        "def candidate_profile(df):\n",
        "  # with open('candidate_profile.csv', 'w') as f_output:\n",
        "  #   csv_output = csv.writer(f_output)\n",
        "  for foldername,subfolders,files in os.walk(r\"/content/gdrive/My Drive/Assignment/dataset/censored\"):\n",
        "      for file in files:\n",
        "          # open the pdf file\n",
        "          object = PyPDF2.PdfFileReader(os.path.join(foldername,file))\n",
        "\n",
        "          # get number of pages\n",
        "          NumPages = object.getNumPages()\n",
        "\n",
        "          text = ''\n",
        "\n",
        "          # extract text and do the search\n",
        "          for i in range(0, NumPages):\n",
        "              PageObj = object.getPage(i)\n",
        "              # print(\"this is page \" + str(i)) \n",
        "              t = PageObj.extractText()\n",
        "              text=text+''+t\n",
        "          data = [{'file':file,'content':text}]\n",
        "          # print(data)\n",
        "          # df.iloc['file']=file\n",
        "          # df.loc['content']=text\n",
        "          df= df.append(data,ignore_index=True)\n",
        "          \n",
        "\n",
        "          # print(text)\n",
        "          # print(df)\n",
        "  # \n",
        "      # csv_output.writerows(text)\n",
        "  return df\n",
        "       "
      ],
      "execution_count": null,
      "outputs": []
    },
    {
      "cell_type": "code",
      "metadata": {
        "cellView": "form",
        "id": "dpzn6vWDjSbq"
      },
      "source": [
        "#@title\n",
        "cand_prof=pd.DataFrame(columns=['file', 'content'])\n",
        "cand_prof=candidate_profile(cand_prof)\n",
        "cand_prof.to_csv('candidate_profile.csv',index=False)"
      ],
      "execution_count": null,
      "outputs": []
    },
    {
      "cell_type": "code",
      "metadata": {
        "colab": {
          "base_uri": "https://localhost:8080/",
          "height": 669
        },
        "cellView": "form",
        "id": "KPCK3tO5jSff",
        "outputId": "4d7a7a2d-d7fa-4a27-a1dd-5f06c3333172"
      },
      "source": [
        "#@title\n",
        "cand_prof"
      ],
      "execution_count": null,
      "outputs": [
        {
          "output_type": "execute_result",
          "data": {
            "text/html": [
              "<div>\n",
              "<style scoped>\n",
              "    .dataframe tbody tr th:only-of-type {\n",
              "        vertical-align: middle;\n",
              "    }\n",
              "\n",
              "    .dataframe tbody tr th {\n",
              "        vertical-align: top;\n",
              "    }\n",
              "\n",
              "    .dataframe thead th {\n",
              "        text-align: right;\n",
              "    }\n",
              "</style>\n",
              "<table border=\"1\" class=\"dataframe\">\n",
              "  <thead>\n",
              "    <tr style=\"text-align: right;\">\n",
              "      <th></th>\n",
              "      <th>file</th>\n",
              "      <th>content</th>\n",
              "    </tr>\n",
              "  </thead>\n",
              "  <tbody>\n",
              "    <tr>\n",
              "      <th>0</th>\n",
              "      <td>resume_18.pdf</td>\n",
              "      <td>SOWNDARYAﬁAm Sowndarya, AGraphic Designer&amp; An ...</td>\n",
              "    </tr>\n",
              "    <tr>\n",
              "      <th>1</th>\n",
              "      <td>resume_8.pdf</td>\n",
              "      <td>UX &amp; UI Designer\\nSkillsExperience\\nProjects\\n...</td>\n",
              "    </tr>\n",
              "    <tr>\n",
              "      <th>2</th>\n",
              "      <td>resume_9.pdf</td>\n",
              "      <td>DHIRENDRA PRATAP SINGH\\n \\n \\nH.No.125, Line N...</td>\n",
              "    </tr>\n",
              "    <tr>\n",
              "      <th>3</th>\n",
              "      <td>resume_20.pdf</td>\n",
              "      <td>Varsha S AUI/UX Designer and Developer#F3 door...</td>\n",
              "    </tr>\n",
              "    <tr>\n",
              "      <th>4</th>\n",
              "      <td>resume_19.pdf</td>\n",
              "      <td></td>\n",
              "    </tr>\n",
              "    <tr>\n",
              "      <th>5</th>\n",
              "      <td>resume_14.pdf</td>\n",
              "      <td>PROFILE \\n CONTACT INFORMATION\\nA 21 year old,...</td>\n",
              "    </tr>\n",
              "    <tr>\n",
              "      <th>6</th>\n",
              "      <td>resume_17.pdf</td>\n",
              "      <td>SHRITESH JAMULKAR \\nPassionate Developer \\n!\"W...</td>\n",
              "    </tr>\n",
              "    <tr>\n",
              "      <th>7</th>\n",
              "      <td>resume_4.pdf</td>\n",
              "      <td></td>\n",
              "    </tr>\n",
              "    <tr>\n",
              "      <th>8</th>\n",
              "      <td>resume_5.pdf</td>\n",
              "      <td>AmitJoshi\\nLinkedIn:www.linkedin.com/in/amitjo...</td>\n",
              "    </tr>\n",
              "    <tr>\n",
              "      <th>9</th>\n",
              "      <td>resume_15.pdf</td>\n",
              "      <td>Badal\\n Vinod\\n Davda\\n A2 10 Bhanu Apt. LBS M...</td>\n",
              "    </tr>\n",
              "    <tr>\n",
              "      <th>10</th>\n",
              "      <td>resume_11.pdf</td>\n",
              "      <td>kanakdandekaushik@yahoo\\n.com  \\n \\n+91\\n-\\n80...</td>\n",
              "    </tr>\n",
              "    <tr>\n",
              "      <th>11</th>\n",
              "      <td>resume_10.pdf</td>\n",
              "      <td>&amp;2!.+,).-/3%3-\\n!SPIRINGSTUDENT0ROUD'EEK\\n[\\n\\...</td>\n",
              "    </tr>\n",
              "    <tr>\n",
              "      <th>12</th>\n",
              "      <td>resume_13.pdf</td>\n",
              "      <td></td>\n",
              "    </tr>\n",
              "    <tr>\n",
              "      <th>13</th>\n",
              "      <td>resume_12.pdf</td>\n",
              "      <td></td>\n",
              "    </tr>\n",
              "    <tr>\n",
              "      <th>14</th>\n",
              "      <td>resume_16.pdf</td>\n",
              "      <td>\\n\\n\\n\\n\\n\\n\\n\\n\\n\\n\\n\\n\\n\\n\\n\\n\\n\\n\\n\\n\\n\\n\\n...</td>\n",
              "    </tr>\n",
              "    <tr>\n",
              "      <th>15</th>\n",
              "      <td>resume_7.pdf</td>\n",
              "      <td>cvBHAWNA SAPRA\\n1362-A Maruti Vihar\\nMG Road, ...</td>\n",
              "    </tr>\n",
              "    <tr>\n",
              "      <th>16</th>\n",
              "      <td>resume_6.pdf</td>\n",
              "      <td></td>\n",
              "    </tr>\n",
              "    <tr>\n",
              "      <th>17</th>\n",
              "      <td>resume_3.pdf</td>\n",
              "      <td>As an inquisitive and enthusiastic young mind,...</td>\n",
              "    </tr>\n",
              "    <tr>\n",
              "      <th>18</th>\n",
              "      <td>resume_1.pdf</td>\n",
              "      <td>\\n\\n\\n\\n\\n\\n\\n\\n\\n\\n\\n\\n\\n\\n\\n\\n\\n\\n\\n\\n\\n\\n\\n...</td>\n",
              "    </tr>\n",
              "    <tr>\n",
              "      <th>19</th>\n",
              "      <td>resume_2.pdf</td>\n",
              "      <td>\\n\\n˝˙ˇ\\n%!˜˚˚ ˛\\n+)*(\\n(\\n,\\n0˚ 3˚2-\\n-%˚-˜;=...</td>\n",
              "    </tr>\n",
              "  </tbody>\n",
              "</table>\n",
              "</div>"
            ],
            "text/plain": [
              "             file                                            content\n",
              "0   resume_18.pdf  SOWNDARYAﬁAm Sowndarya, AGraphic Designer& An ...\n",
              "1    resume_8.pdf  UX & UI Designer\\nSkillsExperience\\nProjects\\n...\n",
              "2    resume_9.pdf  DHIRENDRA PRATAP SINGH\\n \\n \\nH.No.125, Line N...\n",
              "3   resume_20.pdf  Varsha S AUI/UX Designer and Developer#F3 door...\n",
              "4   resume_19.pdf                                                   \n",
              "5   resume_14.pdf  PROFILE \\n CONTACT INFORMATION\\nA 21 year old,...\n",
              "6   resume_17.pdf  SHRITESH JAMULKAR \\nPassionate Developer \\n!\"W...\n",
              "7    resume_4.pdf                                                   \n",
              "8    resume_5.pdf  AmitJoshi\\nLinkedIn:www.linkedin.com/in/amitjo...\n",
              "9   resume_15.pdf  Badal\\n Vinod\\n Davda\\n A2 10 Bhanu Apt. LBS M...\n",
              "10  resume_11.pdf  kanakdandekaushik@yahoo\\n.com  \\n \\n+91\\n-\\n80...\n",
              "11  resume_10.pdf  &2!.+,).-/3%3-\\n!SPIRINGSTUDENT0ROUD'EEK\\n[\\n\\...\n",
              "12  resume_13.pdf                                                   \n",
              "13  resume_12.pdf                                                   \n",
              "14  resume_16.pdf  \\n\\n\\n\\n\\n\\n\\n\\n\\n\\n\\n\\n\\n\\n\\n\\n\\n\\n\\n\\n\\n\\n\\n...\n",
              "15   resume_7.pdf  cvBHAWNA SAPRA\\n1362-A Maruti Vihar\\nMG Road, ...\n",
              "16   resume_6.pdf                                                   \n",
              "17   resume_3.pdf  As an inquisitive and enthusiastic young mind,...\n",
              "18   resume_1.pdf  \\n\\n\\n\\n\\n\\n\\n\\n\\n\\n\\n\\n\\n\\n\\n\\n\\n\\n\\n\\n\\n\\n\\n...\n",
              "19   resume_2.pdf  \\n\\n˝˙ˇ\\n%!˜˚˚ ˛\\n+)*(\\n(\\n,\\n0˚ 3˚2-\\n-%˚-˜;=..."
            ]
          },
          "metadata": {
            "tags": []
          },
          "execution_count": 222
        }
      ]
    }
  ]
}